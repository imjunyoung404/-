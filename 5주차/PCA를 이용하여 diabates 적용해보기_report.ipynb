{
  "cells": [
    {
      "cell_type": "markdown",
      "metadata": {
        "id": "view-in-github",
        "colab_type": "text"
      },
      "source": [
        "<a href=\"https://colab.research.google.com/github/imjunyoung404/ai-class-3-2/blob/main/5%EC%A3%BC%EC%B0%A8/PCA%EB%A5%BC%20%EC%9D%B4%EC%9A%A9%ED%95%98%EC%97%AC%20diabates%20%EC%A0%81%EC%9A%A9.ipynb\" target=\"_parent\"><img src=\"https://colab.research.google.com/assets/colab-badge.svg\" alt=\"Open In Colab\"/></a>"
      ]
    },
    {
      "cell_type": "code",
      "source": [
        "import pandas as pd\n",
        "from sklearn.preprocessing import StandardScaler\n",
        "from sklearn.decomposition import PCA"
      ],
      "metadata": {
        "id": "2N9ApzipZbS_"
      },
      "execution_count": 1,
      "outputs": []
    },
    {
      "cell_type": "code",
      "source": [
        "file_path = '/content/diabetes (1).csv'\n",
        "diabetes_data = pd.read_csv(file_path)"
      ],
      "metadata": {
        "id": "Q7u1r1HTZqS9"
      },
      "execution_count": 2,
      "outputs": []
    },
    {
      "cell_type": "code",
      "source": [
        "# 특징과 라벨 분리\n",
        "X = diabetes_data.drop('Outcome', axis=1)\n",
        "y = diabetes_data['Outcome']"
      ],
      "metadata": {
        "id": "VAVjptmbZtGt"
      },
      "execution_count": 3,
      "outputs": []
    },
    {
      "cell_type": "code",
      "source": [
        "# 데이터 표준화\n",
        "scaler = StandardScaler()\n",
        "X_scaled = scaler.fit_transform(X)"
      ],
      "metadata": {
        "id": "c1jF-MUYZuVS"
      },
      "execution_count": 4,
      "outputs": []
    },
    {
      "cell_type": "code",
      "source": [
        "# PCA 적용 (주성분 2개로 축소)\n",
        "pca = PCA(n_components=2)\n",
        "X_pca = pca.fit_transform(X_scaled)"
      ],
      "metadata": {
        "id": "XkH1nD3yZv7N"
      },
      "execution_count": 5,
      "outputs": []
    },
    {
      "cell_type": "code",
      "source": [
        "\n",
        "# PCA 결과를 데이터프레임으로 변환\n",
        "pca_df = pd.DataFrame(data=X_pca, columns=['Principal Component 1', 'Principal Component 2'])\n",
        "pca_df['Outcome'] = y"
      ],
      "metadata": {
        "id": "noZyqttCZxSV"
      },
      "execution_count": 6,
      "outputs": []
    },
    {
      "cell_type": "code",
      "source": [
        "# 결과 확인\n",
        "print(pca_df)"
      ],
      "metadata": {
        "id": "Q9zA5aeXZyHe",
        "outputId": "4723636f-36d6-4107-bc91-5e689012e1f8",
        "colab": {
          "base_uri": "https://localhost:8080/"
        }
      },
      "execution_count": 8,
      "outputs": [
        {
          "output_type": "stream",
          "name": "stdout",
          "text": [
            "     Principal Component 1  Principal Component 2  Outcome\n",
            "0                 1.068503               1.234895        1\n",
            "1                -1.121683              -0.733852        0\n",
            "2                -0.396477               1.595876        1\n",
            "3                -1.115781              -1.271241        0\n",
            "4                 2.359334              -2.184819        1\n",
            "..                     ...                    ...      ...\n",
            "763               1.562085               1.923150        0\n",
            "764              -0.100405              -0.614181        0\n",
            "765              -0.283475               0.097065        0\n",
            "766              -1.060324               0.837062        1\n",
            "767              -0.839892              -1.151755        0\n",
            "\n",
            "[768 rows x 3 columns]\n"
          ]
        }
      ]
    }
  ],
  "metadata": {
    "colab": {
      "name": "Colaboratory에 오신 것을 환영합니다",
      "provenance": [],
      "include_colab_link": true
    },
    "kernelspec": {
      "display_name": "Python 3",
      "name": "python3"
    }
  },
  "nbformat": 4,
  "nbformat_minor": 0
}
